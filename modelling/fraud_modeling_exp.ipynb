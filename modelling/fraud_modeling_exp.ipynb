{
 "cells": [
  {
   "cell_type": "code",
   "execution_count": 2,
   "metadata": {
    "id": "hIaR19K7M_eK"
   },
   "outputs": [],
   "source": [
    "import pandas as pd\n",
    "import numpy as np\n",
    "import seaborn as sns\n",
    "import pickle\n"
   ]
  },
  {
   "cell_type": "code",
   "execution_count": 3,
   "metadata": {
    "colab": {
     "base_uri": "https://localhost:8080/",
     "height": 351
    },
    "id": "0MjxuI5pXjn6",
    "outputId": "09706202-7e41-4c91-ff34-28f71d061c38"
   },
   "outputs": [
    {
     "data": {
      "text/html": [
       "<div>\n",
       "<style scoped>\n",
       "    .dataframe tbody tr th:only-of-type {\n",
       "        vertical-align: middle;\n",
       "    }\n",
       "\n",
       "    .dataframe tbody tr th {\n",
       "        vertical-align: top;\n",
       "    }\n",
       "\n",
       "    .dataframe thead th {\n",
       "        text-align: right;\n",
       "    }\n",
       "</style>\n",
       "<table border=\"1\" class=\"dataframe\">\n",
       "  <thead>\n",
       "    <tr style=\"text-align: right;\">\n",
       "      <th></th>\n",
       "      <th>TransactionID</th>\n",
       "      <th>isFraud</th>\n",
       "      <th>TransactionDT</th>\n",
       "      <th>TransactionAmt</th>\n",
       "      <th>ProductCD</th>\n",
       "      <th>card1</th>\n",
       "      <th>card2</th>\n",
       "      <th>card3</th>\n",
       "      <th>card4</th>\n",
       "      <th>card5</th>\n",
       "      <th>...</th>\n",
       "      <th>id_31</th>\n",
       "      <th>id_32</th>\n",
       "      <th>id_33</th>\n",
       "      <th>id_34</th>\n",
       "      <th>id_35</th>\n",
       "      <th>id_36</th>\n",
       "      <th>id_37</th>\n",
       "      <th>id_38</th>\n",
       "      <th>DeviceType</th>\n",
       "      <th>DeviceInfo</th>\n",
       "    </tr>\n",
       "  </thead>\n",
       "  <tbody>\n",
       "    <tr>\n",
       "      <th>0</th>\n",
       "      <td>3493085.0</td>\n",
       "      <td>0.0</td>\n",
       "      <td>13264386.0</td>\n",
       "      <td>314.950</td>\n",
       "      <td>W</td>\n",
       "      <td>1444.0</td>\n",
       "      <td>490.0</td>\n",
       "      <td>150.0</td>\n",
       "      <td>visa</td>\n",
       "      <td>166.0</td>\n",
       "      <td>...</td>\n",
       "      <td>missing</td>\n",
       "      <td>-1.0</td>\n",
       "      <td>missing</td>\n",
       "      <td>missing</td>\n",
       "      <td>missing</td>\n",
       "      <td>missing</td>\n",
       "      <td>missing</td>\n",
       "      <td>missing</td>\n",
       "      <td>missing</td>\n",
       "      <td>missing</td>\n",
       "    </tr>\n",
       "    <tr>\n",
       "      <th>1</th>\n",
       "      <td>3520085.0</td>\n",
       "      <td>0.0</td>\n",
       "      <td>14052685.0</td>\n",
       "      <td>117.000</td>\n",
       "      <td>W</td>\n",
       "      <td>3681.0</td>\n",
       "      <td>513.0</td>\n",
       "      <td>150.0</td>\n",
       "      <td>visa</td>\n",
       "      <td>166.0</td>\n",
       "      <td>...</td>\n",
       "      <td>missing</td>\n",
       "      <td>-1.0</td>\n",
       "      <td>missing</td>\n",
       "      <td>missing</td>\n",
       "      <td>missing</td>\n",
       "      <td>missing</td>\n",
       "      <td>missing</td>\n",
       "      <td>missing</td>\n",
       "      <td>missing</td>\n",
       "      <td>missing</td>\n",
       "    </tr>\n",
       "    <tr>\n",
       "      <th>2</th>\n",
       "      <td>3329023.0</td>\n",
       "      <td>0.0</td>\n",
       "      <td>8439647.0</td>\n",
       "      <td>92.745</td>\n",
       "      <td>C</td>\n",
       "      <td>3335.0</td>\n",
       "      <td>545.0</td>\n",
       "      <td>185.0</td>\n",
       "      <td>visa</td>\n",
       "      <td>138.0</td>\n",
       "      <td>...</td>\n",
       "      <td>ie 11.0 for desktop</td>\n",
       "      <td>-1.0</td>\n",
       "      <td>missing</td>\n",
       "      <td>missing</td>\n",
       "      <td>F</td>\n",
       "      <td>T</td>\n",
       "      <td>T</td>\n",
       "      <td>F</td>\n",
       "      <td>desktop</td>\n",
       "      <td>Trident/7.0</td>\n",
       "    </tr>\n",
       "    <tr>\n",
       "      <th>3</th>\n",
       "      <td>3408925.0</td>\n",
       "      <td>0.0</td>\n",
       "      <td>10689293.0</td>\n",
       "      <td>200.000</td>\n",
       "      <td>R</td>\n",
       "      <td>12607.0</td>\n",
       "      <td>399.0</td>\n",
       "      <td>150.0</td>\n",
       "      <td>american express</td>\n",
       "      <td>185.0</td>\n",
       "      <td>...</td>\n",
       "      <td>chrome 65.0</td>\n",
       "      <td>24.0</td>\n",
       "      <td>1600x900</td>\n",
       "      <td>match_status:2</td>\n",
       "      <td>T</td>\n",
       "      <td>F</td>\n",
       "      <td>T</td>\n",
       "      <td>F</td>\n",
       "      <td>desktop</td>\n",
       "      <td>Windows</td>\n",
       "    </tr>\n",
       "    <tr>\n",
       "      <th>4</th>\n",
       "      <td>3075828.0</td>\n",
       "      <td>0.0</td>\n",
       "      <td>1874266.0</td>\n",
       "      <td>226.000</td>\n",
       "      <td>W</td>\n",
       "      <td>10795.0</td>\n",
       "      <td>555.0</td>\n",
       "      <td>150.0</td>\n",
       "      <td>visa</td>\n",
       "      <td>226.0</td>\n",
       "      <td>...</td>\n",
       "      <td>missing</td>\n",
       "      <td>-1.0</td>\n",
       "      <td>missing</td>\n",
       "      <td>missing</td>\n",
       "      <td>missing</td>\n",
       "      <td>missing</td>\n",
       "      <td>missing</td>\n",
       "      <td>missing</td>\n",
       "      <td>missing</td>\n",
       "      <td>missing</td>\n",
       "    </tr>\n",
       "  </tbody>\n",
       "</table>\n",
       "<p>5 rows × 434 columns</p>\n",
       "</div>"
      ],
      "text/plain": [
       "   TransactionID  isFraud  TransactionDT  TransactionAmt ProductCD    card1  \\\n",
       "0      3493085.0      0.0     13264386.0         314.950         W   1444.0   \n",
       "1      3520085.0      0.0     14052685.0         117.000         W   3681.0   \n",
       "2      3329023.0      0.0      8439647.0          92.745         C   3335.0   \n",
       "3      3408925.0      0.0     10689293.0         200.000         R  12607.0   \n",
       "4      3075828.0      0.0      1874266.0         226.000         W  10795.0   \n",
       "\n",
       "   card2  card3             card4  card5  ...                id_31  id_32  \\\n",
       "0  490.0  150.0              visa  166.0  ...              missing   -1.0   \n",
       "1  513.0  150.0              visa  166.0  ...              missing   -1.0   \n",
       "2  545.0  185.0              visa  138.0  ...  ie 11.0 for desktop   -1.0   \n",
       "3  399.0  150.0  american express  185.0  ...          chrome 65.0   24.0   \n",
       "4  555.0  150.0              visa  226.0  ...              missing   -1.0   \n",
       "\n",
       "      id_33           id_34    id_35    id_36    id_37    id_38  DeviceType  \\\n",
       "0   missing         missing  missing  missing  missing  missing     missing   \n",
       "1   missing         missing  missing  missing  missing  missing     missing   \n",
       "2   missing         missing        F        T        T        F     desktop   \n",
       "3  1600x900  match_status:2        T        F        T        F     desktop   \n",
       "4   missing         missing  missing  missing  missing  missing     missing   \n",
       "\n",
       "    DeviceInfo  \n",
       "0      missing  \n",
       "1      missing  \n",
       "2  Trident/7.0  \n",
       "3      Windows  \n",
       "4      missing  \n",
       "\n",
       "[5 rows x 434 columns]"
      ]
     },
     "execution_count": 3,
     "metadata": {},
     "output_type": "execute_result"
    }
   ],
   "source": [
    "data = pd.read_csv('./data/Sampled_data_train.csv')\n",
    "data.head()"
   ]
  },
  {
   "cell_type": "code",
   "execution_count": 4,
   "metadata": {
    "id": "c0AYK22HXtK8"
   },
   "outputs": [],
   "source": [
    "X = data.drop(['TransactionID','isFraud'],axis = 1)\n",
    "y = data['isFraud']"
   ]
  },
  {
   "cell_type": "code",
   "execution_count": 5,
   "metadata": {
    "colab": {
     "base_uri": "https://localhost:8080/"
    },
    "id": "DsPLuyLJ4REz",
    "outputId": "9f97f23a-6582-4390-8701-c603e1dd2fd9"
   },
   "outputs": [
    {
     "data": {
      "text/plain": [
       "0.0    79337\n",
       "1.0    20663\n",
       "Name: isFraud, dtype: int64"
      ]
     },
     "execution_count": 5,
     "metadata": {},
     "output_type": "execute_result"
    }
   ],
   "source": [
    "y.value_counts()"
   ]
  },
  {
   "cell_type": "code",
   "execution_count": 6,
   "metadata": {
    "colab": {
     "base_uri": "https://localhost:8080/"
    },
    "id": "ClgtWRvsX4zB",
    "outputId": "a7b29de4-8ad2-4f8d-e11f-53180290a46f"
   },
   "outputs": [
    {
     "data": {
      "text/plain": [
       "((70000, 432), (70000,), (30000, 432), (30000,))"
      ]
     },
     "execution_count": 6,
     "metadata": {},
     "output_type": "execute_result"
    }
   ],
   "source": [
    "from sklearn.model_selection import train_test_split\n",
    "\n",
    "X_train , X_test, y_train, y_test = train_test_split(X, y , test_size = 0.3 , stratify = y, random_state = 42)\n",
    "#X_val , X_test, y_val, y_test = train_test_split(X_test, y_test , test_size = 0.75 , stratify = y_test)\n",
    "\n",
    "X_train.shape , y_train.shape , X_test.shape , y_test.shape #, X_val.shape , y_val.shape"
   ]
  },
  {
   "cell_type": "code",
   "execution_count": 7,
   "metadata": {
    "colab": {
     "base_uri": "https://localhost:8080/"
    },
    "id": "4q8GTQVGYXpW",
    "outputId": "e1e12824-84c7-45df-f97d-daf963a145d3"
   },
   "outputs": [
    {
     "data": {
      "text/plain": [
       "0"
      ]
     },
     "execution_count": 7,
     "metadata": {},
     "output_type": "execute_result"
    }
   ],
   "source": [
    "X_train.isnull().sum().sum()"
   ]
  },
  {
   "cell_type": "code",
   "execution_count": 8,
   "metadata": {
    "colab": {
     "base_uri": "https://localhost:8080/"
    },
    "id": "IR5uK3RWYb7b",
    "outputId": "d9e495d2-1031-4124-ad41-500e39876b99"
   },
   "outputs": [
    {
     "data": {
      "text/plain": [
       "0"
      ]
     },
     "execution_count": 8,
     "metadata": {},
     "output_type": "execute_result"
    }
   ],
   "source": [
    "X_test.isnull().sum().sum()"
   ]
  },
  {
   "cell_type": "code",
   "execution_count": 9,
   "metadata": {
    "id": "mJ7LV86MYecZ"
   },
   "outputs": [],
   "source": [
    "from sklearn.pipeline import Pipeline\n",
    "from sklearn.preprocessing import StandardScaler, OneHotEncoder\n",
    "from sklearn.compose import ColumnTransformer\n",
    "\n",
    "# Define the numerical and categorical column names\n",
    "\n",
    "# Get the data types of each column\n",
    "dtypes = X_train.dtypes\n",
    "\n",
    "# Find the numerical columns\n",
    "numerical_cols = dtypes[dtypes != 'object'].index.tolist()\n",
    "\n",
    "# Find the categorical columns\n",
    "categorical_cols = dtypes[dtypes == 'object'].index.tolist()\n",
    "\n",
    "# Define the column transformer for scaling and one-hot encoding\n",
    "preprocessor = ColumnTransformer(\n",
    "    transformers=[\n",
    "        ('num', StandardScaler(), numerical_cols),\n",
    "        ('cat', OneHotEncoder(handle_unknown='ignore'), categorical_cols)\n",
    "    ])\n",
    "\n",
    "# Define the pipeline\n",
    "pipeline = Pipeline(steps=[('preprocessor', preprocessor)])\n"
   ]
  },
  {
   "cell_type": "code",
   "execution_count": 10,
   "metadata": {
    "id": "xUFlBmJyZ4K7"
   },
   "outputs": [],
   "source": [
    "# Transform the data\n",
    "X_train = pipeline.fit_transform(X_train)\n",
    "X_test = pipeline.transform(X_test)\n"
   ]
  },
  {
   "cell_type": "code",
   "execution_count": 11,
   "metadata": {},
   "outputs": [],
   "source": [
    "# X_val = pipeline.transform(X_val)"
   ]
  },
  {
   "cell_type": "code",
   "execution_count": 12,
   "metadata": {
    "colab": {
     "base_uri": "https://localhost:8080/"
    },
    "id": "-S1tetZFaWRR",
    "outputId": "1d922df5-3454-48c8-891b-d80a46b286d8"
   },
   "outputs": [
    {
     "data": {
      "text/plain": [
       "(70000, 973)"
      ]
     },
     "execution_count": 12,
     "metadata": {},
     "output_type": "execute_result"
    }
   ],
   "source": [
    "X_train.shape"
   ]
  },
  {
   "cell_type": "code",
   "execution_count": null,
   "metadata": {},
   "outputs": [],
   "source": []
  },
  {
   "cell_type": "markdown",
   "metadata": {
    "id": "FLmA3Hq5AI69"
   },
   "source": [
    "**Logistic Regression**"
   ]
  },
  {
   "cell_type": "code",
   "execution_count": 13,
   "metadata": {
    "id": "Q0xo5NIOAExn"
   },
   "outputs": [
    {
     "name": "stderr",
     "output_type": "stream",
     "text": [
      "C:\\ProgramData\\Anaconda3\\lib\\site-packages\\sklearn\\linear_model\\_logistic.py:814: ConvergenceWarning: lbfgs failed to converge (status=1):\n",
      "STOP: TOTAL NO. of ITERATIONS REACHED LIMIT.\n",
      "\n",
      "Increase the number of iterations (max_iter) or scale the data as shown in:\n",
      "    https://scikit-learn.org/stable/modules/preprocessing.html\n",
      "Please also refer to the documentation for alternative solver options:\n",
      "    https://scikit-learn.org/stable/modules/linear_model.html#logistic-regression\n",
      "  n_iter_i = _check_optimize_result(\n"
     ]
    },
    {
     "data": {
      "text/plain": [
       "LogisticRegression()"
      ]
     },
     "execution_count": 13,
     "metadata": {},
     "output_type": "execute_result"
    }
   ],
   "source": [
    "from sklearn.linear_model import LogisticRegression\n",
    "from sklearn.metrics import classification_report\n",
    "\n",
    "# Train the logistic regression model\n",
    "#logreg = LogisticRegression(class_weight='balanced', max_iter=1000)\n",
    "#logreg = LogisticRegression(solver='saga', class_weight='balanced', max_iter=1000)\n",
    "logreg = LogisticRegression()\n",
    "\n",
    "logreg.fit(X_train, y_train)\n",
    "\n"
   ]
  },
  {
   "cell_type": "code",
   "execution_count": 14,
   "metadata": {},
   "outputs": [
    {
     "name": "stdout",
     "output_type": "stream",
     "text": [
      "Logistic Regression Performance:\n",
      "              precision    recall  f1-score   support\n",
      "\n",
      "         0.0       0.88      0.97      0.92     23801\n",
      "         1.0       0.80      0.49      0.60      6199\n",
      "\n",
      "    accuracy                           0.87     30000\n",
      "   macro avg       0.84      0.73      0.76     30000\n",
      "weighted avg       0.86      0.87      0.86     30000\n",
      "\n"
     ]
    }
   ],
   "source": [
    "# Predict on test set\n",
    "y_pred_logreg = logreg.predict(X_test)\n",
    "\n",
    "# Performance report\n",
    "print(\"Logistic Regression Performance:\")\n",
    "print(classification_report(y_test, y_pred_logreg))\n"
   ]
  },
  {
   "cell_type": "code",
   "execution_count": 15,
   "metadata": {},
   "outputs": [],
   "source": [
    "# Save the model to a file\n",
    "with open(\"logistic_regression.pkl\", \"wb\") as f:\n",
    "    pickle.dump(logreg, f)\n"
   ]
  },
  {
   "cell_type": "markdown",
   "metadata": {
    "id": "F5UGHltLQJoS"
   },
   "source": [
    "**XGBoost**"
   ]
  },
  {
   "cell_type": "code",
   "execution_count": 16,
   "metadata": {
    "id": "VaRwB_52AKdP"
   },
   "outputs": [
    {
     "name": "stdout",
     "output_type": "stream",
     "text": [
      "Fitting 3 folds for each of 5 candidates, totalling 15 fits\n",
      "[CV] END colsample_bytree=1.0, learning_rate=0.2997421251594704, max_depth=7, n_estimators=500, objective=binary:logistic, scale_pos_weight=3.839568310506703, subsample=0.5; total time= 1.5min\n",
      "[CV] END colsample_bytree=1.0, learning_rate=0.2997421251594704, max_depth=7, n_estimators=500, objective=binary:logistic, scale_pos_weight=3.839568310506703, subsample=0.5; total time= 1.5min\n",
      "[CV] END colsample_bytree=1.0, learning_rate=0.2997421251594704, max_depth=7, n_estimators=500, objective=binary:logistic, scale_pos_weight=3.839568310506703, subsample=0.5; total time= 1.5min\n",
      "[CV] END colsample_bytree=0.7000000000000001, learning_rate=0.0645774832507442, max_depth=9, n_estimators=500, objective=binary:logistic, scale_pos_weight=3.839568310506703, subsample=0.6; total time= 1.4min\n",
      "[CV] END colsample_bytree=0.7000000000000001, learning_rate=0.0645774832507442, max_depth=9, n_estimators=500, objective=binary:logistic, scale_pos_weight=3.839568310506703, subsample=0.6; total time= 1.4min\n",
      "[CV] END colsample_bytree=0.7000000000000001, learning_rate=0.0645774832507442, max_depth=9, n_estimators=500, objective=binary:logistic, scale_pos_weight=3.839568310506703, subsample=0.6; total time= 1.4min\n",
      "[CV] END colsample_bytree=0.1, learning_rate=0.023207944168063883, max_depth=7, n_estimators=1000, objective=binary:logistic, scale_pos_weight=3.839568310506703, subsample=0.1; total time=  30.1s\n",
      "[CV] END colsample_bytree=0.1, learning_rate=0.023207944168063883, max_depth=7, n_estimators=1000, objective=binary:logistic, scale_pos_weight=3.839568310506703, subsample=0.1; total time=  29.6s\n",
      "[CV] END colsample_bytree=0.1, learning_rate=0.023207944168063883, max_depth=7, n_estimators=1000, objective=binary:logistic, scale_pos_weight=3.839568310506703, subsample=0.1; total time=  28.7s\n",
      "[CV] END colsample_bytree=0.30000000000000004, learning_rate=0.01391279701103562, max_depth=6, n_estimators=1000, objective=binary:logistic, scale_pos_weight=3.839568310506703, subsample=0.1; total time=  40.9s\n",
      "[CV] END colsample_bytree=0.30000000000000004, learning_rate=0.01391279701103562, max_depth=6, n_estimators=1000, objective=binary:logistic, scale_pos_weight=3.839568310506703, subsample=0.1; total time=  40.1s\n",
      "[CV] END colsample_bytree=0.30000000000000004, learning_rate=0.01391279701103562, max_depth=6, n_estimators=1000, objective=binary:logistic, scale_pos_weight=3.839568310506703, subsample=0.1; total time=  40.9s\n",
      "[CV] END colsample_bytree=0.9, learning_rate=0.5, max_depth=10, n_estimators=100, objective=binary:logistic, scale_pos_weight=3.839568310506703, subsample=0.6; total time=  22.8s\n",
      "[CV] END colsample_bytree=0.9, learning_rate=0.5, max_depth=10, n_estimators=100, objective=binary:logistic, scale_pos_weight=3.839568310506703, subsample=0.6; total time=  22.6s\n",
      "[CV] END colsample_bytree=0.9, learning_rate=0.5, max_depth=10, n_estimators=100, objective=binary:logistic, scale_pos_weight=3.839568310506703, subsample=0.6; total time=  23.7s\n",
      "Best parameters found:  {'subsample': 0.6, 'scale_pos_weight': 3.839568310506703, 'objective': 'binary:logistic', 'n_estimators': 500, 'max_depth': 9, 'learning_rate': 0.0645774832507442, 'colsample_bytree': 0.7000000000000001}\n",
      "Tuned XGBoost Performance:\n",
      "              precision    recall  f1-score   support\n",
      "\n",
      "         0.0       0.96      0.95      0.95     23801\n",
      "         1.0       0.83      0.83      0.83      6199\n",
      "\n",
      "    accuracy                           0.93     30000\n",
      "   macro avg       0.89      0.89      0.89     30000\n",
      "weighted avg       0.93      0.93      0.93     30000\n",
      "\n"
     ]
    }
   ],
   "source": [
    "import numpy as np\n",
    "import xgboost as xgb\n",
    "from sklearn.model_selection import RandomizedSearchCV\n",
    "from sklearn.metrics import classification_report\n",
    "from sklearn.metrics import roc_auc_score, roc_curve, classification_report, auc\n",
    "\n",
    "# Set up the parameter search space\n",
    "param_dist = {\n",
    "    'objective': ['binary:logistic'],\n",
    "    'scale_pos_weight': [79337 / 20663],\n",
    "    'max_depth': list(range(3, 11)),\n",
    "    'learning_rate': list(np.logspace(np.log10(0.005), np.log10(0.5), base=10, num=10)),\n",
    "    'subsample': list(np.linspace(0.1, 1, 10)),\n",
    "    'colsample_bytree': list(np.linspace(0.1, 1, 10)),\n",
    "    'n_estimators': [100, 500, 1000]\n",
    "}\n",
    "\n",
    "# Create an XGBoost classifier\n",
    "xgb_clf = xgb.XGBClassifier( eval_metric='logloss')\n",
    "\n",
    "# Set up the randomized search\n",
    "random_search = RandomizedSearchCV(\n",
    "    xgb_clf, \n",
    "    param_distributions=param_dist, \n",
    "    n_iter=5, \n",
    "    scoring='f1', \n",
    "    cv=3, \n",
    "    random_state=42, \n",
    "    verbose=2  # Print scores after each iteration\n",
    ")\n",
    "\n",
    "# Perform the randomized search\n",
    "random_search.fit(X_train, y_train)\n",
    "\n",
    "# Get the best parameters\n",
    "best_params = random_search.best_params_\n",
    "print(\"Best parameters found: \", best_params)\n",
    "\n",
    "# Train the XGBoost model with the best parameters\n",
    "xgb_best = xgb.XGBClassifier(**best_params, eval_metric='logloss')\n",
    "xgb_best.fit(X_train, y_train)\n",
    "\n",
    "# Predict on test set\n",
    "y_pred_xgb_best = xgb_best.predict(X_test)\n",
    "\n",
    "# Performance report\n",
    "print(\"Tuned XGBoost Performance:\")\n",
    "print(classification_report(y_test, y_pred_xgb_best))\n"
   ]
  },
  {
   "cell_type": "code",
   "execution_count": 17,
   "metadata": {},
   "outputs": [],
   "source": [
    "\n",
    "# Save the model to a file\n",
    "with open(\"xgb_best_f1_score.pkl\", \"wb\") as f:\n",
    "    pickle.dump(xgb_best, f)\n",
    "\n",
    "# Load the model from the file\n",
    "with open(\"xgb_best_f1_score.pkl\", \"rb\") as f:\n",
    "    xgb_best = pickle.load(f)\n",
    "\n"
   ]
  },
  {
   "cell_type": "code",
   "execution_count": 18,
   "metadata": {},
   "outputs": [
    {
     "data": {
      "image/png": "[encoded data removed]",
      "text/plain": [
       "<Figure size 640x480 with 1 Axes>"
      ]
     },
     "metadata": {},
     "output_type": "display_data"
    }
   ],
   "source": [
    "import matplotlib.pyplot as plt\n",
    "from sklearn.metrics import roc_curve, auc\n",
    "\n",
    "# Predict the probabilities for the positive class (1)\n",
    "y_prob_val = xgb_best.predict_proba(X_test)[:, 1]\n",
    "\n",
    "# Calculate the TPR, FPR, and AUC\n",
    "fpr, tpr, _ = roc_curve(y_test, y_prob_val)\n",
    "roc_auc = auc(fpr, tpr)\n",
    "\n",
    "# Plot the ROC curve\n",
    "plt.figure()\n",
    "plt.plot(fpr, tpr, color='darkorange', lw=2, label='ROC curve (area = %0.2f)' % roc_auc)\n",
    "plt.plot([0, 1], [0, 1], color='navy', lw=2, linestyle='--')\n",
    "plt.xlim([0.0, 1.0])\n",
    "plt.ylim([0.0, 1.05])\n",
    "plt.xlabel('False Positive Rate')\n",
    "plt.ylabel('True Positive Rate')\n",
    "plt.title('Receiver Operating Characteristic (ROC) Curve')\n",
    "plt.legend(loc=\"lower right\")\n",
    "plt.show()\n"
   ]
  },
  {
   "cell_type": "code",
   "execution_count": null,
   "metadata": {},
   "outputs": [],
   "source": []
  },
  {
   "cell_type": "code",
   "execution_count": 19,
   "metadata": {},
   "outputs": [
    {
     "name": "stdout",
     "output_type": "stream",
     "text": [
      "Best threshold:  0.5656565656565657\n",
      "Best F1 score:  0.8333055231102954\n",
      "Tuned XGBoost Performance with Optimal Threshold:\n",
      "              precision    recall  f1-score   support\n",
      "\n",
      "         0.0       0.95      0.97      0.96     23801\n",
      "         1.0       0.86      0.81      0.83      6199\n",
      "\n",
      "    accuracy                           0.93     30000\n",
      "   macro avg       0.91      0.89      0.90     30000\n",
      "weighted avg       0.93      0.93      0.93     30000\n",
      "\n"
     ]
    }
   ],
   "source": [
    "import numpy as np\n",
    "from sklearn.metrics import f1_score\n",
    "\n",
    "def find_best_threshold(y_true, y_pred, thresholds):\n",
    "    best_threshold = thresholds[0]\n",
    "    best_f1 = 0\n",
    "    \n",
    "    for threshold in thresholds:\n",
    "        y_pred_threshold = (y_pred > threshold).astype(int)\n",
    "        current_f1 = f1_score(y_true, y_pred_threshold)\n",
    "        \n",
    "        if current_f1 > best_f1:\n",
    "            best_f1 = current_f1\n",
    "            best_threshold = threshold\n",
    "            \n",
    "    return best_threshold, best_f1\n",
    "\n",
    "# Predict probabilities on validation set (assuming you have X_val and y_val)\n",
    "y_prob_val = xgb_best.predict_proba(X_test)\n",
    "\n",
    "# Convert y_prob_val to class labels\n",
    "y_pred_val = y_prob_val[:, 1] #np.argmax(y_prob_val, axis=1)\n",
    "\n",
    "# Now use y_val and y_pred_val to compute the F1 score\n",
    "# Find the best threshold\n",
    "thresholds = np.linspace(0, 1, 100)\n",
    "best_threshold, best_f1 = find_best_threshold(y_test, y_pred_val, thresholds)\n",
    "print(\"Best threshold: \", best_threshold)\n",
    "print(\"Best F1 score: \", best_f1)\n",
    "\n",
    "# Predict probabilities on test set\n",
    "y_prob_test = xgb_best.predict_proba(X_test)\n",
    "\n",
    "# Convert the predicted probabilities to class labels using the best threshold\n",
    "y_pred_test_best_threshold = (y_prob_test[:, 1] > best_threshold).astype(int)\n",
    "\n",
    "# Performance report\n",
    "print(\"Tuned XGBoost Performance with Optimal Threshold:\")\n",
    "print(classification_report(y_test, y_pred_test_best_threshold))\n"
   ]
  },
  {
   "cell_type": "markdown",
   "metadata": {},
   "source": [
    "**XGBoost wuth AUC**"
   ]
  },
  {
   "cell_type": "code",
   "execution_count": 20,
   "metadata": {},
   "outputs": [
    {
     "name": "stdout",
     "output_type": "stream",
     "text": [
      "Fitting 3 folds for each of 5 candidates, totalling 15 fits\n",
      "[CV] END colsample_bytree=1.0, learning_rate=0.2997421251594704, max_depth=7, n_estimators=500, objective=binary:logistic, scale_pos_weight=3.839568310506703, subsample=0.5; total time= 1.5min\n",
      "[CV] END colsample_bytree=1.0, learning_rate=0.2997421251594704, max_depth=7, n_estimators=500, objective=binary:logistic, scale_pos_weight=3.839568310506703, subsample=0.5; total time= 1.5min\n",
      "[CV] END colsample_bytree=1.0, learning_rate=0.2997421251594704, max_depth=7, n_estimators=500, objective=binary:logistic, scale_pos_weight=3.839568310506703, subsample=0.5; total time= 1.5min\n",
      "[CV] END colsample_bytree=0.7000000000000001, learning_rate=0.0645774832507442, max_depth=9, n_estimators=500, objective=binary:logistic, scale_pos_weight=3.839568310506703, subsample=0.6; total time= 1.3min\n",
      "[CV] END colsample_bytree=0.7000000000000001, learning_rate=0.0645774832507442, max_depth=9, n_estimators=500, objective=binary:logistic, scale_pos_weight=3.839568310506703, subsample=0.6; total time= 1.3min\n",
      "[CV] END colsample_bytree=0.7000000000000001, learning_rate=0.0645774832507442, max_depth=9, n_estimators=500, objective=binary:logistic, scale_pos_weight=3.839568310506703, subsample=0.6; total time= 1.3min\n",
      "[CV] END colsample_bytree=0.1, learning_rate=0.023207944168063883, max_depth=7, n_estimators=1000, objective=binary:logistic, scale_pos_weight=3.839568310506703, subsample=0.1; total time=  28.1s\n",
      "[CV] END colsample_bytree=0.1, learning_rate=0.023207944168063883, max_depth=7, n_estimators=1000, objective=binary:logistic, scale_pos_weight=3.839568310506703, subsample=0.1; total time=  28.3s\n",
      "[CV] END colsample_bytree=0.1, learning_rate=0.023207944168063883, max_depth=7, n_estimators=1000, objective=binary:logistic, scale_pos_weight=3.839568310506703, subsample=0.1; total time=  27.3s\n",
      "[CV] END colsample_bytree=0.30000000000000004, learning_rate=0.01391279701103562, max_depth=6, n_estimators=1000, objective=binary:logistic, scale_pos_weight=3.839568310506703, subsample=0.1; total time=  40.1s\n",
      "[CV] END colsample_bytree=0.30000000000000004, learning_rate=0.01391279701103562, max_depth=6, n_estimators=1000, objective=binary:logistic, scale_pos_weight=3.839568310506703, subsample=0.1; total time=  39.9s\n",
      "[CV] END colsample_bytree=0.30000000000000004, learning_rate=0.01391279701103562, max_depth=6, n_estimators=1000, objective=binary:logistic, scale_pos_weight=3.839568310506703, subsample=0.1; total time=  40.0s\n",
      "[CV] END colsample_bytree=0.9, learning_rate=0.5, max_depth=10, n_estimators=100, objective=binary:logistic, scale_pos_weight=3.839568310506703, subsample=0.6; total time=  22.5s\n",
      "[CV] END colsample_bytree=0.9, learning_rate=0.5, max_depth=10, n_estimators=100, objective=binary:logistic, scale_pos_weight=3.839568310506703, subsample=0.6; total time=  22.5s\n",
      "[CV] END colsample_bytree=0.9, learning_rate=0.5, max_depth=10, n_estimators=100, objective=binary:logistic, scale_pos_weight=3.839568310506703, subsample=0.6; total time=  22.4s\n",
      "Best parameters found:  {'subsample': 0.6, 'scale_pos_weight': 3.839568310506703, 'objective': 'binary:logistic', 'n_estimators': 500, 'max_depth': 9, 'learning_rate': 0.0645774832507442, 'colsample_bytree': 0.7000000000000001}\n",
      "Tuned XGBoost Performance:\n",
      "              precision    recall  f1-score   support\n",
      "\n",
      "         0.0       0.96      0.95      0.95     23801\n",
      "         1.0       0.83      0.83      0.83      6199\n",
      "\n",
      "    accuracy                           0.93     30000\n",
      "   macro avg       0.89      0.89      0.89     30000\n",
      "weighted avg       0.93      0.93      0.93     30000\n",
      "\n"
     ]
    }
   ],
   "source": [
    "import numpy as np\n",
    "import xgboost as xgb\n",
    "from sklearn.model_selection import RandomizedSearchCV\n",
    "from sklearn.metrics import classification_report\n",
    "from sklearn.metrics import roc_auc_score, roc_curve, classification_report, auc\n",
    "\n",
    "# Set up the parameter search space\n",
    "param_dist = {\n",
    "    'objective': ['binary:logistic'],\n",
    "    'scale_pos_weight': [79337 / 20663],\n",
    "    'max_depth': list(range(3, 11)),\n",
    "    'learning_rate': list(np.logspace(np.log10(0.005), np.log10(0.5), base=10, num=10)),\n",
    "    'subsample': list(np.linspace(0.1, 1, 10)),\n",
    "    'colsample_bytree': list(np.linspace(0.1, 1, 10)),\n",
    "    'n_estimators': [100, 500, 1000]\n",
    "}\n",
    "\n",
    "# Create an XGBoost classifier\n",
    "xgb_clf = xgb.XGBClassifier( eval_metric='logloss')\n",
    "\n",
    "# Set up the randomized search\n",
    "random_search = RandomizedSearchCV(\n",
    "    xgb_clf, \n",
    "    param_distributions=param_dist, \n",
    "    n_iter=5, \n",
    "    scoring='roc_auc', \n",
    "    cv=3, \n",
    "    random_state=42, \n",
    "    verbose=2  # Print scores after each iteration\n",
    ")\n",
    "\n",
    "# Perform the randomized search\n",
    "random_search.fit(X_train, y_train)\n",
    "\n",
    "# Get the best parameters\n",
    "best_params = random_search.best_params_\n",
    "print(\"Best parameters found: \", best_params)\n",
    "\n",
    "# Train the XGBoost model with the best parameters\n",
    "xgb_best = xgb.XGBClassifier(**best_params, eval_metric='logloss')\n",
    "xgb_best.fit(X_train, y_train)\n",
    "\n",
    "# Predict on test set\n",
    "y_pred_xgb_best = xgb_best.predict(X_test)\n",
    "\n",
    "# Performance report\n",
    "print(\"Tuned XGBoost Performance:\")\n",
    "print(classification_report(y_test, y_pred_xgb_best))\n"
   ]
  },
  {
   "cell_type": "code",
   "execution_count": 21,
   "metadata": {},
   "outputs": [],
   "source": [
    "import pickle\n",
    "\n",
    "# Save the model to a file\n",
    "with open(\"xgb_best_auc.pkl\", \"wb\") as f:\n",
    "    pickle.dump(xgb_best, f)\n",
    "\n",
    "# Load the model from the file\n",
    "with open(\"xgb_best_auc.pkl\", \"rb\") as f:\n",
    "    xgb_best = pickle.load(f)\n",
    "\n"
   ]
  },
  {
   "cell_type": "code",
   "execution_count": 22,
   "metadata": {},
   "outputs": [
    {
     "data": {
      "image/png": "[encoded data removed]",
      "text/plain": [
       "<Figure size 640x480 with 1 Axes>"
      ]
     },
     "metadata": {},
     "output_type": "display_data"
    }
   ],
   "source": [
    "import matplotlib.pyplot as plt\n",
    "from sklearn.metrics import roc_curve, auc\n",
    "\n",
    "# Predict the probabilities for the positive class (1)\n",
    "y_prob_val = xgb_best.predict_proba(X_test)[:, 1]\n",
    "\n",
    "# Calculate the TPR, FPR, and AUC\n",
    "fpr, tpr, _ = roc_curve(y_test, y_prob_val)\n",
    "roc_auc = auc(fpr, tpr)\n",
    "\n",
    "# Plot the ROC curve\n",
    "plt.figure()\n",
    "plt.plot(fpr, tpr, color='darkorange', lw=2, label='ROC curve (area = %0.2f)' % roc_auc)\n",
    "plt.plot([0, 1], [0, 1], color='navy', lw=2, linestyle='--')\n",
    "plt.xlim([0.0, 1.0])\n",
    "plt.ylim([0.0, 1.05])\n",
    "plt.xlabel('False Positive Rate')\n",
    "plt.ylabel('True Positive Rate')\n",
    "plt.title('Receiver Operating Characteristic (ROC) Curve')\n",
    "plt.legend(loc=\"lower right\")\n",
    "plt.show()\n"
   ]
  },
  {
   "cell_type": "code",
   "execution_count": 23,
   "metadata": {},
   "outputs": [
    {
     "name": "stdout",
     "output_type": "stream",
     "text": [
      "Best threshold:  0.5656565656565657\n",
      "Best F1 score:  0.8333055231102954\n",
      "Tuned XGBoost Performance with Optimal Threshold:\n",
      "              precision    recall  f1-score   support\n",
      "\n",
      "         0.0       0.95      0.97      0.96     23801\n",
      "         1.0       0.86      0.81      0.83      6199\n",
      "\n",
      "    accuracy                           0.93     30000\n",
      "   macro avg       0.91      0.89      0.90     30000\n",
      "weighted avg       0.93      0.93      0.93     30000\n",
      "\n"
     ]
    }
   ],
   "source": [
    "import numpy as np\n",
    "from sklearn.metrics import f1_score\n",
    "\n",
    "def find_best_threshold(y_true, y_pred, thresholds):\n",
    "    best_threshold = thresholds[0]\n",
    "    best_f1 = 0\n",
    "    \n",
    "    for threshold in thresholds:\n",
    "        y_pred_threshold = (y_pred > threshold).astype(int)\n",
    "        current_f1 = f1_score(y_true, y_pred_threshold)\n",
    "        \n",
    "        if current_f1 > best_f1:\n",
    "            best_f1 = current_f1\n",
    "            best_threshold = threshold\n",
    "            \n",
    "    return best_threshold, best_f1\n",
    "\n",
    "# Predict probabilities on validation set (assuming you have X_val and y_val)\n",
    "y_prob_val = xgb_best.predict_proba(X_test)\n",
    "\n",
    "# Convert y_prob_val to class labels\n",
    "y_pred_val = y_prob_val[:, 1] #np.argmax(y_prob_val, axis=1)\n",
    "\n",
    "# Now use y_val and y_pred_val to compute the F1 score\n",
    "# Find the best threshold\n",
    "thresholds = np.linspace(0, 1, 100)\n",
    "best_threshold, best_f1 = find_best_threshold(y_test, y_pred_val, thresholds)\n",
    "print(\"Best threshold: \", best_threshold)\n",
    "print(\"Best F1 score: \", best_f1)\n",
    "\n",
    "# Predict probabilities on test set\n",
    "y_prob_test = xgb_best.predict_proba(X_test)\n",
    "\n",
    "# Convert the predicted probabilities to class labels using the best threshold\n",
    "y_pred_test_best_threshold = (y_prob_test[:, 1] > best_threshold).astype(int)\n",
    "\n",
    "# Performance report\n",
    "print(\"Tuned XGBoost Performance with Optimal Threshold:\")\n",
    "print(classification_report(y_test, y_pred_test_best_threshold))\n"
   ]
  },
  {
   "cell_type": "markdown",
   "metadata": {},
   "source": [
    "**Evaluation**"
   ]
  },
  {
   "cell_type": "code",
   "execution_count": null,
   "metadata": {},
   "outputs": [],
   "source": [
    "# import numpy as np\n",
    "# import pandas as pd\n",
    "# import matplotlib.pyplot as plt\n",
    "# import seaborn as sns\n",
    "# from sklearn.metrics import confusion_matrix, classification_report, roc_curve, roc_auc_score, auc\n",
    "\n",
    "# def plot_confusion_matrix(y_true, y_pred):\n",
    "#     cm = confusion_matrix(y_true, y_pred)\n",
    "#     plt.figure(figsize=(8, 6))\n",
    "#     sns.heatmap(cm, annot=True, fmt='d', cmap='Blues', cbar=False)\n",
    "#     plt.xlabel('Predicted Label')\n",
    "#     plt.ylabel('True Label')\n",
    "#     plt.title('Confusion Matrix')\n",
    "#     plt.show()\n",
    "\n",
    "# def plot_roc_auc_curve(y_true, y_prob):\n",
    "#     fpr, tpr, thresholds = roc_curve(y_true, y_prob)\n",
    "#     roc_auc = auc(fpr, tpr)\n",
    "#     plt.figure(figsize=(8, 6))\n",
    "#     plt.plot(fpr, tpr, lw=2, label=f'ROC curve (area = {roc_auc:.2f})')\n",
    "#     plt.plot([0, 1], [0, 1], color='navy', lw=2, linestyle='--')\n",
    "#     plt.xlim([0.0, 1.0])\n",
    "#     plt.ylim([0.0, 1.05])\n",
    "#     plt.xlabel('False Positive Rate')\n",
    "#     plt.ylabel('True Positive Rate')\n",
    "#     plt.title('Receiver Operating Characteristic (ROC)')\n",
    "#     plt.legend(loc=\"lower right\")\n",
    "#     plt.show()\n",
    "\n",
    "# # def evaluate_classification(y_true, y_pred, y_prob):\n",
    "# #     plot_confusion_matrix(y_true, y_pred)\n",
    "    \n",
    "# #     print(\"Classification Report:\")\n",
    "# #     print(classification_report(y_true, y_pred))\n",
    "    \n",
    "# #     plot_roc_auc_curve(y_true, y_prob)\n",
    "\n",
    "\n",
    "# from sklearn.metrics import cohen_kappa_score, matthews_corrcoef, precision_recall_curve, average_precision_score\n",
    "\n",
    "# def evaluate_classification(y_true, y_pred, y_prob):\n",
    "#     plot_confusion_matrix(y_true, y_pred)\n",
    "    \n",
    "#     print(\"Classification Report:\")\n",
    "#     print(classification_report(y_true, y_pred))\n",
    "    \n",
    "#     kappa = cohen_kappa_score(y_true, y_pred)\n",
    "#     print(f\"Cohen's Kappa: {kappa:.4f}\")\n",
    "    \n",
    "#     mcc = matthews_corrcoef(y_true, y_pred)\n",
    "#     print(f\"Matthews Correlation Coefficient: {mcc:.4f}\")\n",
    "    \n",
    "#     precision, recall, _ = precision_recall_curve(y_true, y_prob)\n",
    "#     ap = average_precision_score(y_true, y_prob)\n",
    "#     print(f\"Average Precision: {ap:.4f}\")\n",
    "    \n",
    "#     plot_roc_auc_curve(y_true, y_prob)\n"
   ]
  },
  {
   "cell_type": "code",
   "execution_count": null,
   "metadata": {},
   "outputs": [],
   "source": [
    "# # Assuming you already have y_true, y_pred, and y_prob from your model\n",
    "# evaluate_classification(y_true, y_pred, y_prob)\n"
   ]
  }
 ],
 "metadata": {
  "colab": {
   "provenance": []
  },
  "kernelspec": {
   "display_name": "Python 3 (ipykernel)",
   "language": "python",
   "name": "python3"
  },
  "language_info": {
   "codemirror_mode": {
    "name": "ipython",
    "version": 3
   },
   "file_extension": ".py",
   "mimetype": "text/x-python",
   "name": "python",
   "nbconvert_exporter": "python",
   "pygments_lexer": "ipython3",
   "version": "3.9.13"
  }
 },
 "nbformat": 4,
 "nbformat_minor": 1
}
